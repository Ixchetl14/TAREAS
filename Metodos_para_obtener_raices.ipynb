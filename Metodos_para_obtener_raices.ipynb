{
 "cells": [
  {
   "cell_type": "code",
   "execution_count": 1,
   "metadata": {
    "collapsed": false
   },
   "outputs": [],
   "source": [
    "from pylab import*\n",
    "from numpy import*\n",
    "\n",
    "%matplotlib inline"
   ]
  },
  {
   "cell_type": "markdown",
   "metadata": {},
   "source": [
    "#  Bipartición"
   ]
  },
  {
   "cell_type": "code",
   "execution_count": 2,
   "metadata": {
    "collapsed": false
   },
   "outputs": [],
   "source": [
    "def raiz_bin(func,x_i,x_d,err= 1e-8):#err es el \"tope\" de nuestra busqueda de la raíz con un margen de error de 1e-5,esto tiene repercucuines com el intervalo que te de como error cresca o disminuye\n",
    "    raiz= 0.5*(x_i+x_d)\n",
    "    y_i,y_d = func(x_i), func(x_d)\n",
    "    n=0\n",
    "    while abs(y_d )  >=err: #error en el eje x\n",
    "        y_m = func(raiz) #debemos saber cuanto vale la función en cada uno de los lados\" por la derecha y la izquierda\"\n",
    "        if y_m==0:\n",
    "            print \"le atine!!\"\n",
    "            break\n",
    "        \n",
    "        elif y_m*y_i < 0 :\n",
    "            x_d = raiz\n",
    "        else:\n",
    "            x_i=raiz\n",
    "            \n",
    "        raiz= 0.5*(x_i+x_d)\n",
    "        y_i,y_d = func(x_i), func(x_d)\n",
    "        n+=1\n",
    "        print \"paso: \",n, \" raiz=\",raiz \n",
    "    return raiz\n",
    "\n",
    "    "
   ]
  },
  {
   "cell_type": "markdown",
   "metadata": {
    "collapsed": true
   },
   "source": [
    "#  Método de Newton."
   ]
  },
  {
   "cell_type": "code",
   "execution_count": 3,
   "metadata": {
    "collapsed": false
   },
   "outputs": [],
   "source": [
    "def newton_1(ec,d_ec, x_i, error=1e-9):\n",
    "    n=0\n",
    "    while abs(ec(x_i)) >= error:\n",
    "        print n, \"\\t\", x_i\n",
    "        raiz= x_i - ec(x_i)/ d_ec(x_i)\n",
    "        x_i=raiz\n",
    "        \n",
    "        if x_i==0:\n",
    "            print \"le atine!!\"\n",
    "            break\n",
    "        n +=1\n",
    "    return raiz"
   ]
  },
  {
   "cell_type": "markdown",
   "metadata": {
    "collapsed": false
   },
   "source": [
    "x=linspace(1,6)\n",
    "plot (x,sin(x))\n",
    "axes().set_aspect('equal'), grid(True)\n",
    "show()"
   ]
  },
  {
   "cell_type": "markdown",
   "metadata": {
    "collapsed": false
   },
   "source": [
    "raiz_bin(sin, 2,4)"
   ]
  },
  {
   "cell_type": "markdown",
   "metadata": {
    "collapsed": false
   },
   "source": [
    "newton_1(sin,cos,2)"
   ]
  },
  {
   "cell_type": "markdown",
   "metadata": {
    "collapsed": false
   },
   "source": [
    "pi"
   ]
  },
  {
   "cell_type": "markdown",
   "metadata": {},
   "source": [
    "##  Nueva función"
   ]
  },
  {
   "cell_type": "markdown",
   "metadata": {
    "collapsed": true
   },
   "source": [
    "def f_2(x):\n",
    "    return (tan(sqrt(pi-8*x)))**3 + x**2"
   ]
  },
  {
   "cell_type": "markdown",
   "metadata": {
    "collapsed": false
   },
   "source": [
    "def D_f2(x):\n",
    "    return 2*x - 12*(tan(sqrt(-8*x + pi))**2 + 1)*tan(sqrt(-8*x + pi))**2/sqrt(-8*x + pi)"
   ]
  },
  {
   "cell_type": "markdown",
   "metadata": {},
   "source": [
    "##  Bipartición"
   ]
  },
  {
   "cell_type": "markdown",
   "metadata": {
    "collapsed": false
   },
   "source": [
    "x=linspace(-5,0 ,100)\n",
    "ylim([-30,30])\n",
    "grid(True)\n",
    "plot(x,f_2(x))\n",
    "plot (-2.94267812781,[0],'o')\n",
    "plot (-0.456490400247,[0],'o')\n",
    "plot (-2.9426781275819383,[0],'x', markersize=20)\n"
   ]
  },
  {
   "cell_type": "markdown",
   "metadata": {
    "collapsed": false
   },
   "source": [
    "print raiz_bin(f_2,-3,-2.8)"
   ]
  },
  {
   "cell_type": "markdown",
   "metadata": {
    "collapsed": false
   },
   "source": [
    "print raiz_bin(f_2,-1,-0.1)"
   ]
  },
  {
   "cell_type": "markdown",
   "metadata": {},
   "source": [
    "## Newton"
   ]
  },
  {
   "cell_type": "markdown",
   "metadata": {
    "collapsed": false
   },
   "source": [
    "newton_1(f_2,D_f2,-0.1)"
   ]
  },
  {
   "cell_type": "markdown",
   "metadata": {},
   "source": [
    "Problema de convergencia del método de newton"
   ]
  },
  {
   "cell_type": "markdown",
   "metadata": {
    "collapsed": false
   },
   "source": [
    "print newton_1(sin,cos,(pi/2 + 0.001))\n",
    "print newton_1(sin,cos,(pi/2 - 0.001))"
   ]
  },
  {
   "cell_type": "code",
   "execution_count": null,
   "metadata": {
    "collapsed": true
   },
   "outputs": [],
   "source": []
  },
  {
   "cell_type": "code",
   "execution_count": null,
   "metadata": {
    "collapsed": true
   },
   "outputs": [],
   "source": []
  },
  {
   "cell_type": "code",
   "execution_count": null,
   "metadata": {
    "collapsed": true
   },
   "outputs": [],
   "source": []
  },
  {
   "cell_type": "code",
   "execution_count": null,
   "metadata": {
    "collapsed": true
   },
   "outputs": [],
   "source": []
  },
  {
   "cell_type": "code",
   "execution_count": null,
   "metadata": {
    "collapsed": true
   },
   "outputs": [],
   "source": []
  },
  {
   "cell_type": "markdown",
   "metadata": {
    "collapsed": false
   },
   "source": [
    "x = Symbol('x')\n",
    "f = (tan(sqrt(pi-8*x)))**3 + x**2\n",
    "f\n"
   ]
  },
  {
   "cell_type": "markdown",
   "metadata": {
    "collapsed": false
   },
   "source": [
    "f.diff(x)"
   ]
  },
  {
   "cell_type": "markdown",
   "metadata": {
    "collapsed": false
   },
   "source": [
    "x = Symbol('x')\n",
    "f = (sin(x))/x\n",
    "f\n"
   ]
  },
  {
   "cell_type": "markdown",
   "metadata": {
    "collapsed": false
   },
   "source": [
    "f.integrate(x)"
   ]
  },
  {
   "cell_type": "markdown",
   "metadata": {
    "collapsed": true
   },
   "source": []
  },
  {
   "cell_type": "markdown",
   "metadata": {
    "collapsed": false
   },
   "source": [
    "\n",
    "def una_funcion(x):\n",
    "    return (x-1)**5"
   ]
  },
  {
   "cell_type": "markdown",
   "metadata": {
    "collapsed": false
   },
   "source": [
    "x= linspace(0,2)\n",
    "y= una_funcion(x)\n",
    "plot (x,y)\n",
    "show()"
   ]
  },
  {
   "cell_type": "markdown",
   "metadata": {
    "collapsed": false
   },
   "source": [
    "#print \" la raíz es =\" , raiz_bin(una_funcion, 0, 4)"
   ]
  },
  {
   "cell_type": "markdown",
   "metadata": {
    "collapsed": false
   },
   "source": [
    "for i in range (10):\n",
    "    print i\n",
    "    if i==5:\n",
    "        break"
   ]
  },
  {
   "cell_type": "markdown",
   "metadata": {
    "collapsed": false
   },
   "source": [
    "\n",
    "\n",
    "def una_funcion(x):\n",
    "    return (x-1)**5\n",
    "\n",
    "def D_uf(x):\n",
    "    return 5*(x-1)**4"
   ]
  },
  {
   "cell_type": "markdown",
   "metadata": {
    "collapsed": false
   },
   "source": [
    "#print newton_1(una_funcion,D_uf,3)"
   ]
  },
  {
   "cell_type": "code",
   "execution_count": null,
   "metadata": {
    "collapsed": true
   },
   "outputs": [],
   "source": []
  }
 ],
 "metadata": {
  "kernelspec": {
   "display_name": "Python 2",
   "language": "python",
   "name": "python2"
  },
  "language_info": {
   "codemirror_mode": {
    "name": "ipython",
    "version": 2
   },
   "file_extension": ".py",
   "mimetype": "text/x-python",
   "name": "python",
   "nbconvert_exporter": "python",
   "pygments_lexer": "ipython2",
   "version": "2.7.11"
  }
 },
 "nbformat": 4,
 "nbformat_minor": 0
}
