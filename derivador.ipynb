{
 "cells": [
  {
   "cell_type": "markdown",
   "metadata": {},
   "source": [
    "# Derivada numerica"
   ]
  },
  {
   "cell_type": "code",
   "execution_count": 1,
   "metadata": {
    "collapsed": true
   },
   "outputs": [],
   "source": [
    "from pylab import*\n",
    "from numpy import*\n",
    "\n",
    "%matplotlib inline"
   ]
  },
  {
   "cell_type": "code",
   "execution_count": 2,
   "metadata": {
    "collapsed": true
   },
   "outputs": [],
   "source": [
    "def der_num(f,x,h=1e-4):\n",
    "    return (f(x+h)-f(x-h))/(2. * h)"
   ]
  },
  {
   "cell_type": "code",
   "execution_count": 5,
   "metadata": {
    "collapsed": true
   },
   "outputs": [],
   "source": [
    "def newton_2(ec,x_i,error=1e-8):\n",
    "    n=0\n",
    "    while abs(ec(x_i)) >= error:\n",
    "        print n, \"\\t\", x_i\n",
    "        raiz= x_i - ec(x_i)/ der_num(ec,x_i)\n",
    "        x_i=raiz\n",
    "        \n",
    "        if x_i==0:\n",
    "            print \"le atine!!\"\n",
    "            break\n",
    "        n +=1\n",
    "    return raiz"
   ]
  },
  {
   "cell_type": "code",
   "execution_count": 6,
   "metadata": {
    "collapsed": false
   },
   "outputs": [
    {
     "name": "stdout",
     "output_type": "stream",
     "text": [
      "0 \t1.67079632679\n",
      "1 \t11.6374407667\n",
      "2 \t12.9753246623\n",
      "3 \t12.5419364293\n",
      "4 \t12.5663754782\n",
      "12.5663706144\n",
      "12.5663706144\n"
     ]
    }
   ],
   "source": [
    "print newton_2(sin,pi/2+0.1)\n",
    "print 4*pi"
   ]
  },
  {
   "cell_type": "code",
   "execution_count": 13,
   "metadata": {
    "collapsed": true
   },
   "outputs": [],
   "source": [
    "def der_num_mejorado(f,x,h=1e-4):\n",
    "    return (-f(x+2*h)+8*f(x+h) - 8*f(x-h) + f(x-2*h))/(12. * h)"
   ]
  },
  {
   "cell_type": "code",
   "execution_count": 14,
   "metadata": {
    "collapsed": true
   },
   "outputs": [],
   "source": [
    "def newton_2_2(ec,x_i,error=1e-8):\n",
    "    n=0\n",
    "    while abs(ec(x_i)) >= error:\n",
    "        print n, \"\\t\", x_i\n",
    "        raiz= x_i - ec(x_i)/ der_num_mejorado(ec,x_i)\n",
    "        x_i=raiz\n",
    "        \n",
    "        if x_i==0:\n",
    "            print \"le atine!!\"\n",
    "            break\n",
    "        n +=1\n",
    "    return raiz"
   ]
  },
  {
   "cell_type": "code",
   "execution_count": 15,
   "metadata": {
    "collapsed": false
   },
   "outputs": [
    {
     "name": "stdout",
     "output_type": "stream",
     "text": [
      "0 \t1.67079632679\n",
      "1 \t11.6374407667\n",
      "2 \t12.9753246623\n",
      "3 \t12.5419364293\n",
      "4 \t12.5663754782\n",
      "12.5663706144\n",
      "12.5663706144\n"
     ]
    }
   ],
   "source": [
    "print newton_2(sin,pi/2+0.1)\n",
    "print 4*pi"
   ]
  },
  {
   "cell_type": "code",
   "execution_count": 16,
   "metadata": {
    "collapsed": false
   },
   "outputs": [
    {
     "name": "stdout",
     "output_type": "stream",
     "text": [
      "0.707106781187\n",
      "0.707106780008\n",
      "0.707106781186\n"
     ]
    }
   ],
   "source": [
    "print cos(pi/4)\n",
    "print der_num(sin,pi/4)\n",
    "print der_num_mejorado(sin,pi/4)"
   ]
  },
  {
   "cell_type": "code",
   "execution_count": null,
   "metadata": {
    "collapsed": true
   },
   "outputs": [],
   "source": []
  }
 ],
 "metadata": {
  "kernelspec": {
   "display_name": "Python 2",
   "language": "python",
   "name": "python2"
  },
  "language_info": {
   "codemirror_mode": {
    "name": "ipython",
    "version": 2
   },
   "file_extension": ".py",
   "mimetype": "text/x-python",
   "name": "python",
   "nbconvert_exporter": "python",
   "pygments_lexer": "ipython2",
   "version": "2.7.11"
  }
 },
 "nbformat": 4,
 "nbformat_minor": 0
}
