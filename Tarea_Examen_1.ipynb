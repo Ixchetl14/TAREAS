{
 "cells": [
  {
   "cell_type": "code",
   "execution_count": 14,
   "metadata": {
    "collapsed": false
   },
   "outputs": [],
   "source": [
    "from pylab import*\n",
    "%matplotlib  inline"
   ]
  },
  {
   "cell_type": "code",
   "execution_count": 15,
   "metadata": {
    "collapsed": true
   },
   "outputs": [],
   "source": [
    "def RK4(ec, p_ini, x, args=0, h=0.01):\n",
    "    if (x[1] - x[0]) <= 5.*h:\n",
    "        h= (x[1] - x[0])/10\n",
    "    tiempos=arange(x[0],x[1]+h,h)\n",
    "    sol = zeros((len(tiempos),len(p_ini)))\n",
    "    sol[0,:]=p_ini\n",
    "    if args==0:\n",
    "        for i in xrange(len(tiempos)-1):\n",
    "            k_1=ec(sol[i,:],tiempos[i])\n",
    "            k_2=ec(sol[i,:]+0.5*h*k_1,tiempos[i]+0.5*h)\n",
    "            k_3=ec(sol[i,:]+0.5*h*k_2,tiempos[i]+0.5*h)\n",
    "            k_4=ec(sol[i,:]+h*k_3,tiempos[i]+h)\n",
    "            sol[i+1,:]= sol[i,:]+ (h/6.)*(k_1+2*k_2+2*k_3+k_4)\n",
    "    else:\n",
    "        for i in xrange(len(tiempos)-1):\n",
    "            k_1=ec(sol[i,:],tiempos[i],args)\n",
    "            k_2=ec(sol[i,:]+0.5*h*k_1,tiempos[i]+0.5*h,args)\n",
    "            k_3=ec(sol[i,:]+0.5*h*k_2,tiempos[i]+0.5*h,args)\n",
    "            k_4=ec(sol[i,:]+h*k_3,tiempos[i]+h,args)\n",
    "            sol[i+1,:]= sol[i,:]+ (h/6.)*(k_1+2*k_2+2*k_3+k_4)\n",
    "    return tiempos,sol"
   ]
  },
  {
   "cell_type": "code",
   "execution_count": 33,
   "metadata": {
    "collapsed": true
   },
   "outputs": [],
   "source": [
    "\n",
    "def fric_v(v,gamma=0.1):\n",
    "    f_x = -gamma*v[0]\n",
    "    f_y = -gamma*v[1]\n",
    "    return array([f_x,f_y])\n",
    "\n",
    "def fric_v2(v,mhu=0.2):\n",
    "    norm_v = sqrt(v[0]**2 + v[1]**2)\n",
    "    f_x = mhu*norm_v*((v[0])**(3/2))\n",
    "    f_y = mhu*norm_v*((v[1])**(3/2))\n",
    "    return array([f_x,f_y])"
   ]
  },
  {
   "cell_type": "code",
   "execution_count": 34,
   "metadata": {
    "collapsed": true
   },
   "outputs": [],
   "source": [
    "def ec_mov(r_v,t,w=4,fricc=0,m=1):\n",
    "    dx=r_v[2]\n",
    "    dy=r_v[3]\n",
    "    d_vx=(w*w)*m*r_v[0]\n",
    "    d_vy=(w*w)*m*r_v[1]\n",
    "    return array([dx,dy,d_vx,d_vy])\n",
    "    "
   ]
  },
  {
   "cell_type": "code",
   "execution_count": 38,
   "metadata": {
    "collapsed": true
   },
   "outputs": [],
   "source": [
    "def ec_mov_1(r,t,w=2,m=1):\n",
    "    u=(r[2]**2 + r[3]**2)\n",
    "    dxtheta=r[2]\n",
    "    dytheta=r[3]\n",
    "    if u<=1:\n",
    "        d_2xtheta = (w*w)*m*cos(r[0]) + fric_v([r[2],r[3]])[0]\n",
    "        d_2ytheta = (w*w)*m*sin(r[1]) + fric_v([r[2],r[3]])[1]\n",
    "    else:\n",
    "        d_2xtheta = (w*w)*m*cos(r[0]) + fric_v2([r[2],r[3]])[0]\n",
    "        d_2ytheta = (w*w)*m*sin(r[1]) + fric_v2([r[2],r[3]])[1]\n",
    "        \n",
    "    return array([dxtheta,dytheta,d_2xtheta,d_2ytheta])\n"
   ]
  },
  {
   "cell_type": "code",
   "execution_count": 39,
   "metadata": {
    "collapsed": false
   },
   "outputs": [
    {
     "name": "stderr",
     "output_type": "stream",
     "text": [
      "/home/karou/anaconda2/lib/python2.7/site-packages/ipykernel/__main__.py:2: RuntimeWarning: overflow encountered in double_scalars\n",
      "  from ipykernel import kernelapp as app\n",
      "/home/karou/anaconda2/lib/python2.7/site-packages/ipykernel/__main__.py:8: RuntimeWarning: overflow encountered in double_scalars\n",
      "/home/karou/anaconda2/lib/python2.7/site-packages/ipykernel/__main__.py:9: RuntimeWarning: invalid value encountered in cos\n",
      "/home/karou/anaconda2/lib/python2.7/site-packages/ipykernel/__main__.py:10: RuntimeWarning: invalid value encountered in sin\n"
     ]
    },
    {
     "data": {
      "image/png": "[encoded data removed]",
      "text/plain": [
       "<matplotlib.figure.Figure at 0xace19c8c>"
      ]
     },
     "metadata": {},
     "output_type": "display_data"
    }
   ],
   "source": [
    "t,sol=RK4(ec_mov_1,[0,1,0,0],[0,12]) \n",
    "plot (sol[:,0],sol[:,1])\n",
    "show()"
   ]
  },
  {
   "cell_type": "code",
   "execution_count": null,
   "metadata": {
    "collapsed": true
   },
   "outputs": [],
   "source": []
  },
  {
   "cell_type": "code",
   "execution_count": null,
   "metadata": {
    "collapsed": true
   },
   "outputs": [],
   "source": []
  }
 ],
 "metadata": {
  "kernelspec": {
   "display_name": "Python 2",
   "language": "python",
   "name": "python2"
  },
  "language_info": {
   "codemirror_mode": {
    "name": "ipython",
    "version": 2
   },
   "file_extension": ".py",
   "mimetype": "text/x-python",
   "name": "python",
   "nbconvert_exporter": "python",
   "pygments_lexer": "ipython2",
   "version": "2.7.11"
  }
 },
 "nbformat": 4,
 "nbformat_minor": 0
}
