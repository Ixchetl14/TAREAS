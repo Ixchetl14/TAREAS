{
 "cells": [
  {
   "cell_type": "code",
   "execution_count": 30,
   "metadata": {
    "collapsed": true
   },
   "outputs": [],
   "source": [
    "from pylab import*\n",
    "%matplotlib inline "
   ]
  },
  {
   "cell_type": "code",
   "execution_count": 40,
   "metadata": {
    "collapsed": true
   },
   "outputs": [],
   "source": [
    "def raiz_bin(func,x_i,x_d,err= 1e-19):#err es el \"tope\" de nuestra busqueda de la raíz con un margen de error de 1e-5,esto tiene repercucuines com el intervalo que te de como error cresca o disminuye\n",
    "    raiz= 0.5*(x_i+x_d)\n",
    "    y_i,y_d = func(x_i), func(x_d)\n",
    "    #n=0\n",
    "    while abs(y_d )  >=err: #error en el eje x\n",
    "        y_m = func(raiz) #debemos saber cuanto vale la función en cada uno de los lados\" por la derecha y la izquierda\"\n",
    "        if y_m==0:\n",
    "            #print \"le atine!!\"\n",
    "            break\n",
    "        \n",
    "        elif y_m*y_i < 0 :\n",
    "            x_d = raiz\n",
    "        else:\n",
    "            x_i=raiz\n",
    "            \n",
    "        raiz= 0.5*(x_i+x_d)\n",
    "        y_i,y_d = func(x_i), func(x_d)\n",
    "        #n+=1\n",
    "        #print \"paso: \",n, \" raiz=\",raiz \n",
    "    return raiz\n"
   ]
  },
  {
   "cell_type": "code",
   "execution_count": 46,
   "metadata": {
    "collapsed": true
   },
   "outputs": [],
   "source": [
    "def newton_1(ec,d_ec, x_i, error=1e-12):\n",
    "\n",
    "    while abs(ec(x_i)) >= error:\n",
    "        raiz= x_i - ec(x_i)/ d_ec(x_i)\n",
    "        x_i=raiz\n",
    "        \n",
    "        if x_i==0:\n",
    "            #print \"le atine!!\"\n",
    "            break\n",
    "    \n",
    "    return raiz"
   ]
  },
  {
   "cell_type": "code",
   "execution_count": 33,
   "metadata": {
    "collapsed": false
   },
   "outputs": [
    {
     "data": {
      "image/png": "[encoded data removed]",
      "text/plain": [
       "<matplotlib.figure.Figure at 0xace836ec>"
      ]
     },
     "metadata": {},
     "output_type": "display_data"
    }
   ],
   "source": [
    "t= [-4,4*pi]\n",
    "tiempo=arange(t[0],t[1],0.01)\n",
    "y= sin(tiempo)\n",
    "plot (tiempo,y,\"-\")\n",
    "plot (-1.5,0,\"*\")\n",
    "grid(True)\n",
    "\n",
    "show()"
   ]
  },
  {
   "cell_type": "markdown",
   "metadata": {
    "collapsed": false
   },
   "source": [
    "# $Problema 1$"
   ]
  },
  {
   "cell_type": "code",
   "execution_count": 175,
   "metadata": {
    "collapsed": false
   },
   "outputs": [],
   "source": [
    "def busca_r(ec,d_ec,t,dt):\n",
    "    #t = [-4,4*pi]\n",
    "    tiempo= arange(t[0],t[1],dt)\n",
    "    raices=[]\n",
    "    #posibles_raices=[]\n",
    "    sol=zeros((len(tiempo),len(t)))\n",
    "    for i in tiempo:\n",
    "        s_l = ec(i)\n",
    "        sol[i,:] = array([i,s_l])\n",
    "        if sol[i,:][1] == 0:\n",
    "            raices.append(sol[i,:][0])\n",
    "\n",
    "        #if (sol[i+1,:][1])*(sol[i,:][1]) < 0:\n",
    "            #posibles_raices.append(sol[i,:])\n",
    "            #posibles_raices.append(sol[i+1,:])\n",
    "    #for j in (len(posibles_raices)-1):\n",
    "        elif sol[i,:][1] <0:\n",
    "            #ra=raiz_bin(sin,sol[i,:][0],sol[i+1,:][0])\n",
    "            ra=newton_1(ec,d_ec,sol[i,:][0])\n",
    "            raices.append(ra)\n",
    "            #print ra\n",
    "    #for j in raices:\n",
    "       # if j > t[1]:\n",
    "            #raices = raices\n",
    "        #elif j== j+1:\n",
    "\n",
    "    #print \"posibles raices\",posibles_raices   \n",
    "    #print \"posibles raices sin repetir\",posibles_raices\n",
    "    #print \"raices\",raices\n",
    "    #print sol[1,:]\n",
    "    #print sol[2,:]\n",
    "    #print sol[2,:][1]* sol[1,:][1]\n",
    "    return raices"
   ]
  },
  {
   "cell_type": "code",
   "execution_count": null,
   "metadata": {
    "collapsed": true
   },
   "outputs": [],
   "source": []
  },
  {
   "cell_type": "code",
   "execution_count": 34,
   "metadata": {
    "collapsed": false
   },
   "outputs": [],
   "source": [
    "def busca_r_1(ec,t,dt):\n",
    "    tiempo= arange(t[0],t[1],dt)\n",
    "    raices=[]\n",
    "    raices2=[]\n",
    "    error=1e-3\n",
    "    for i in tiempo:\n",
    "        s_l1= ec(i)\n",
    "        s_l2 = ec(i+1)\n",
    "        \n",
    "        if s_l1 == 0:\n",
    "            raices.append(i)\n",
    "        elif s_l2 == 0:\n",
    "            raices.append(i+1)\n",
    "            \n",
    "        elif s_l1 * s_l2 <0:\n",
    "            #ra= newton_1(ec,d_ec,i+1)\n",
    "            ra= raiz_bin(ec,i,i+1)\n",
    "            raices.append(ra)\n",
    "    for j in raices:\n",
    "            \n",
    "        if j not in raices2 :\n",
    "            raices2.append(j)\n",
    "            \n",
    "        #elif abs(j - j+1) < error:\n",
    "            #raices2.remove(j+1)\n",
    "\n",
    "    return raices2"
   ]
  },
  {
   "cell_type": "code",
   "execution_count": 44,
   "metadata": {
    "collapsed": false
   },
   "outputs": [],
   "source": [
    "def busca_r_2(ec,d_ec,t,dt):\n",
    "    tiempo= arange(t[0],t[1],dt)\n",
    "    raices=[]\n",
    "    raices2=[]\n",
    "    for i in tiempo:\n",
    "        s_l1= ec(i)\n",
    "        s_l2 = ec(i+1)\n",
    "        \n",
    "        if s_l1 == 0:\n",
    "            raices.append(i)\n",
    "        elif s_l2 == 0:\n",
    "            raices.append(i+1)\n",
    "            \n",
    "        elif s_l1 * s_l2 <0:\n",
    "            ra= newton_1(ec,d_ec,i+1)\n",
    "            raices.append(ra)\n",
    "            \n",
    "    for j in raices:\n",
    "        if j not in raices2 :\n",
    "            raices2.append(j)\n",
    "    return raices2"
   ]
  },
  {
   "cell_type": "code",
   "execution_count": 61,
   "metadata": {
    "collapsed": true
   },
   "outputs": [],
   "source": [
    "def ec (x):\n",
    "    y=cos(x) + (6/5)*(sin(x*x))\n",
    "    return y"
   ]
  },
  {
   "cell_type": "code",
   "execution_count": 64,
   "metadata": {
    "collapsed": true
   },
   "outputs": [],
   "source": [
    "def d_ec(x):\n",
    "    y_p=-sin(x) + (12/5)*(cos(x*x))\n",
    "    return y_p"
   ]
  },
  {
   "cell_type": "code",
   "execution_count": 59,
   "metadata": {
    "collapsed": false
   },
   "outputs": [
    {
     "data": {
      "image/png": "[encoded data removed]",
      "text/plain": [
       "<matplotlib.figure.Figure at 0xacd20a6c>"
      ]
     },
     "metadata": {},
     "output_type": "display_data"
    }
   ],
   "source": [
    "t=arange(-1,4*pi,.1)\n",
    "y=ec(t)\n",
    "plot(t,y)\n",
    "grid(True)\n",
    "show()"
   ]
  },
  {
   "cell_type": "code",
   "execution_count": 70,
   "metadata": {
    "collapsed": false
   },
   "outputs": [
    {
     "name": "stdout",
     "output_type": "stream",
     "text": [
      "[1.7276420222595334, 1.7276419937610625, 1.7276420230045915, 1.727642022445798, 1.727642020955682, 1.7276420222595332, 1.727641993761063, 2.7276420213282107, 3.6867361504584553, 4.3797484469600025, 4.3797484459355474, 4.3797484435141083, 3.8534421537071468, 3.853442155010999, 4.3797484435141092, 4.9859028619714083, 4.9859028609469531, 4.6867361502721909, 5.3797484459355474, 4.985902860946954, 5.5314439000561837]\n"
     ]
    }
   ],
   "source": [
    "t=[0,2*pi]\n",
    "r=busca_r_1(ec,t,0.1)\n",
    "print r"
   ]
  },
  {
   "cell_type": "code",
   "execution_count": 47,
   "metadata": {
    "collapsed": false
   },
   "outputs": [
    {
     "name": "stdout",
     "output_type": "stream",
     "text": [
      "[0.0, 1.2334917294390749e-20, 6.3239479842006063e-18, 2.4326278025375153e-16, 3.2425674829656553e-15, 2.4185142007571853e-14, 1.2495504576794797e-13, 5.011336533461766e-13, -3.3087224502121107e-24, -1.9852334701272664e-23, -4.632211430296955e-23, -1.3234889800848443e-22, -3.5734202462290796e-22, -9.7938184526278477e-22, -2.5940384009662948e-21, -6.6174449004242214e-21, -1.6464202912255463e-20, -3.9810548520952116e-20, -9.3703019790006975e-20, -2.150404894841855e-19, -4.8302053817176477e-19, -1.0615440411464519e-18, -2.2869889575866109e-18, -4.8361346123484278e-18, -1.0044963721488748e-17, -2.0513443916604646e-17, -4.1229328707603069e-17, -8.1617553698582618e-17, -1.5926082880864806e-16, -3.0654461174312031e-16, -5.8240799607079535e-16, -1.0929012008538061e-15, -2.0267906005854569e-15, -3.7166619879392543e-15, -6.7427380139820775e-15, -1.2107983615294166e-14, -2.1530784696365685e-14, -3.793061649276161e-14, -6.6227927276400061e-14, -1.1465255014917602e-13, -1.9686985060825973e-13, -3.3541397469801643e-13, -5.6719967535690669e-13, -9.5232101284675741e-13, 3.3087224502121107e-24, 1.9852334701272664e-23, 5.2939559203393771e-23, 1.852884572118782e-22, 6.6174449004242214e-22, 2.2234614865425384e-21, 7.6762360844920968e-21, 2.6469779601696886e-20, 9.1056041829837286e-20, 3.127669157736504e-19, 1.0748848100657071e-18, 3.6926401335551223e-18, 1.2703376626446369e-17, 4.3789909307152819e-17, 1.513901986627611e-16, 5.2543147784078759e-16, 1.8327116354469736e-15, 6.4318667579443822e-15, 2.274046971778923e-14, 8.1114029880889615e-14, 3.1415926535897931, 3.1415926535897936, 3.1415926535897953, 3.1415926535898113, 3.1415926535898913, 3.1415926535902003, 3.1415926535897927, 3.1415926535897922, 3.1415926535897913, 3.14159265358979, 3.1415926535897869, 3.141592653589782, 3.1415926535897736, 3.1415926535897585, 3.1415926535897327, 3.1415926535896883, 3.1415926535896124, 3.1415926535894849, 3.1415926535892713, 3.141592653588916, 3.1415926535897949, 3.1415926535897984, 3.1415926535898118, 3.1415926535898593, 3.1415926535900316, 6.2831853071795862, 6.283185307179588, 6.2831853071795996, 6.2831853071796626, 6.2831853071799157, 6.2831853071795853, 6.2831853071795845, 6.2831853071795836, 6.2831853071795809, 6.2831853071795765, 6.2831853071795685, 6.2831853071795551, 6.2831853071795312, 6.2831853071794903, 6.283185307179421, 6.2831853071793029, 6.2831853071791066, 6.2831853071787789, 6.2831853071795871, 6.2831853071795907, 6.2831853071796013, 6.2831853071796404, 6.2831853071797807, 9.4247779607693793, 9.4247779607693811, 9.42477796076939, 9.4247779607694397, 9.424777960769644, 9.4247779607703386, 9.4247779607693776, 9.424777960769374, 9.4247779607693705, 9.4247779607693634, 9.4247779607693509, 9.4247779607693296, 9.4247779607692905, 9.4247779607692284, 9.42477796076912, 9.4247779607689388, 9.4247779607686351, 9.4247779607693829, 9.4247779607693918, 9.4247779607694238, 9.4247779607695374, 12.566370614359172, 12.566370614359174, 12.56637061435918, 12.566370614359219, 12.566370614359386, 12.566370614359963, 12.566370614359171, 12.566370614359169, 12.566370614359165, 12.566370614359158, 12.566370614359146, 12.566370614359126, 12.566370614359093, 12.566370614359034, 12.566370614358934, 12.566370614358767, 12.566370614358489, 12.566370614359176, 12.566370614359183, 12.56637061435921, 12.566370614359302]\n"
     ]
    }
   ],
   "source": [
    "t=[-1,4*pi]\n",
    "r=busca_r_2(sin,cos,t,.01)\n",
    "print r"
   ]
  },
  {
   "cell_type": "code",
   "execution_count": null,
   "metadata": {
    "collapsed": true
   },
   "outputs": [],
   "source": []
  },
  {
   "cell_type": "markdown",
   "metadata": {},
   "source": [
    "# $Problema2$"
   ]
  },
  {
   "cell_type": "code",
   "execution_count": null,
   "metadata": {
    "collapsed": true
   },
   "outputs": [],
   "source": [
    "def ec2(t)"
   ]
  },
  {
   "cell_type": "code",
   "execution_count": 37,
   "metadata": {
    "collapsed": false
   },
   "outputs": [
    {
     "ename": "IndexError",
     "evalue": "too many indices for array",
     "output_type": "error",
     "traceback": [
      "\u001b[1;31m---------------------------------------------------------------------------\u001b[0m",
      "\u001b[1;31mIndexError\u001b[0m                                Traceback (most recent call last)",
      "\u001b[1;32m<ipython-input-37-30a50f147b9c>\u001b[0m in \u001b[0;36m<module>\u001b[1;34m()\u001b[0m\n\u001b[0;32m      7\u001b[0m \u001b[0mec\u001b[0m\u001b[1;33m=\u001b[0m \u001b[1;36m2\u001b[0m\u001b[1;33m*\u001b[0m\u001b[1;33m(\u001b[0m\u001b[0me\u001b[0m\u001b[1;33m**\u001b[0m\u001b[1;33m-\u001b[0m\u001b[1;33m(\u001b[0m\u001b[0mi\u001b[0m\u001b[1;33m+\u001b[0m\u001b[1;36m1\u001b[0m\u001b[1;33m)\u001b[0m\u001b[1;33m**\u001b[0m\u001b[1;36m2\u001b[0m\u001b[1;33m)\u001b[0m\u001b[1;33m*\u001b[0m\u001b[1;33m(\u001b[0m\u001b[1;33m(\u001b[0m\u001b[0me\u001b[0m\u001b[1;33m**\u001b[0m\u001b[1;33m-\u001b[0m\u001b[1;33m(\u001b[0m\u001b[0mj\u001b[0m\u001b[1;33m+\u001b[0m\u001b[1;36m2\u001b[0m\u001b[1;33m)\u001b[0m\u001b[1;33m**\u001b[0m\u001b[1;36m2\u001b[0m\u001b[1;33m)\u001b[0m\u001b[1;33m+\u001b[0m\u001b[1;33m(\u001b[0m\u001b[0me\u001b[0m\u001b[1;33m**\u001b[0m\u001b[1;33m-\u001b[0m\u001b[1;33m(\u001b[0m\u001b[0mj\u001b[0m\u001b[1;33m-\u001b[0m\u001b[1;36m2\u001b[0m\u001b[1;33m)\u001b[0m\u001b[1;33m**\u001b[0m\u001b[1;36m2\u001b[0m\u001b[1;33m)\u001b[0m\u001b[1;33m)\u001b[0m \u001b[1;33m+\u001b[0m \u001b[1;33m(\u001b[0m\u001b[1;33m(\u001b[0m\u001b[1;36m6\u001b[0m\u001b[1;33m*\u001b[0m\u001b[0mi\u001b[0m\u001b[1;33m)\u001b[0m\u001b[1;33m*\u001b[0m\u001b[1;33m(\u001b[0m\u001b[0mi\u001b[0m\u001b[1;33m*\u001b[0m\u001b[0mi\u001b[0m \u001b[1;33m+\u001b[0m \u001b[0mj\u001b[0m\u001b[1;33m*\u001b[0m\u001b[0mj\u001b[0m\u001b[1;33m)\u001b[0m\u001b[1;33m*\u001b[0m\u001b[1;33m(\u001b[0m\u001b[0me\u001b[0m\u001b[1;33m**\u001b[0m\u001b[1;33m-\u001b[0m\u001b[1;33m(\u001b[0m\u001b[0mi\u001b[0m\u001b[1;33m*\u001b[0m\u001b[0mi\u001b[0m \u001b[1;33m+\u001b[0m \u001b[0mj\u001b[0m\u001b[1;33m*\u001b[0m\u001b[0mj\u001b[0m\u001b[1;33m)\u001b[0m\u001b[1;33m)\u001b[0m\u001b[1;33m)\u001b[0m \u001b[1;33m-\u001b[0m \u001b[1;36m1\u001b[0m\u001b[1;33m\u001b[0m\u001b[0m\n\u001b[0;32m      8\u001b[0m \u001b[1;33m\u001b[0m\u001b[0m\n\u001b[1;32m----> 9\u001b[1;33m \u001b[0mplot\u001b[0m\u001b[1;33m(\u001b[0m\u001b[0mec\u001b[0m\u001b[1;33m[\u001b[0m\u001b[1;33m:\u001b[0m\u001b[1;33m,\u001b[0m\u001b[1;36m0\u001b[0m\u001b[1;33m]\u001b[0m\u001b[1;33m,\u001b[0m\u001b[0mec\u001b[0m\u001b[1;33m[\u001b[0m\u001b[1;33m:\u001b[0m\u001b[1;33m,\u001b[0m\u001b[1;36m1\u001b[0m\u001b[1;33m]\u001b[0m\u001b[1;33m)\u001b[0m\u001b[1;33m\u001b[0m\u001b[0m\n\u001b[0m\u001b[0;32m     10\u001b[0m \u001b[1;33m\u001b[0m\u001b[0m\n",
      "\u001b[1;31mIndexError\u001b[0m: too many indices for array"
     ]
    }
   ],
   "source": [
    "j=linspace(-4,4,30)\n",
    "x=linspace(-4,4,100)\n",
    "#for i in x:\n",
    "i=-4\n",
    "#for j in tiempo:\n",
    "\n",
    "#ec= 2*(e**-(i+1)**2)*((e**-(j+2)**2)+(e**-(j-2)**2)) + ((6*i)*(i*i + j*j)*(e**-(i*i + j*j))) - 1\n",
    "\n",
    "plot(ec[:,0],ec[:,1])\n",
    "        "
   ]
  },
  {
   "cell_type": "markdown",
   "metadata": {},
   "source": [
    "# $Problema 3$"
   ]
  },
  {
   "cell_type": "code",
   "execution_count": null,
   "metadata": {
    "collapsed": true
   },
   "outputs": [],
   "source": []
  },
  {
   "cell_type": "code",
   "execution_count": null,
   "metadata": {
    "collapsed": true
   },
   "outputs": [],
   "source": []
  }
 ],
 "metadata": {
  "kernelspec": {
   "display_name": "Python 2",
   "language": "python",
   "name": "python2"
  },
  "language_info": {
   "codemirror_mode": {
    "name": "ipython",
    "version": 2
   },
   "file_extension": ".py",
   "mimetype": "text/x-python",
   "name": "python",
   "nbconvert_exporter": "python",
   "pygments_lexer": "ipython2",
   "version": "2.7.11"
  }
 },
 "nbformat": 4,
 "nbformat_minor": 0
}
