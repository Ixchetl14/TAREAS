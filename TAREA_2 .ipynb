{
 "cells": [
  {
   "cell_type": "code",
   "execution_count": 5,
   "metadata": {
    "collapsed": true
   },
   "outputs": [],
   "source": [
    "%run calculator.ipynb\n",
    "%matplotlib inline "
   ]
  },
  {
   "cell_type": "code",
   "execution_count": 4,
   "metadata": {
    "collapsed": false
   },
   "outputs": [
    {
     "name": "stdout",
     "output_type": "stream",
     "text": [
      "[1 2 3] 3\n"
     ]
    }
   ],
   "source": [
    "x= [1,4]\n",
    "n= arange(x[0],x[1],1)\n",
    "N=len(n)\n",
    "print n,N"
   ]
  },
  {
   "cell_type": "code",
   "execution_count": null,
   "metadata": {
    "collapsed": true
   },
   "outputs": [],
   "source": [
    "def busca_raices(ec,x, inicio,n,mi_dt): \n",
    "    n= arange(x[0],x[1],n)\n",
    "    N=len(n) # numero de puntos que queremos obtener de la función \n",
    "    trayectoria = zeros(N,len(inicio))#cremos una matriz de ceros donde guardaremos los valores de la ecuacion\n",
    "    raiz= zeros(1,len(inicio))\n",
    "    trayectoria[0,:]=array(inicio) # le indicamos que llene con las condiciones iniciales el primer renglon la matríz delas raices\n",
    "    for in in range(N-1):# le restamos el punto inicial\n",
    "        t,sol_dt=RK4/ec,trayectoria[i,:]"
   ]
  },
  {
   "cell_type": "code",
   "execution_count": null,
   "metadata": {
    "collapsed": true
   },
   "outputs": [],
   "source": [
    "inicio= [0,0,5,5]\n",
    "N = 60\n",
    "trayectoria = zeros((N,len(inicio)))\n",
    "mi_dt= .1\n",
    "trayectoria[0,:]= array(inicio)\n",
    "for i in range(N-1): # restamos el pinto inicial\n",
    "    t,sol_dt = RK4(e_mov,trayectoria[i,:],[0,mi_dt],fric_v)\n",
    "    if sol_dt[-1,:][1] <0 : # si cambia de signo\n",
    "        \"\"\"#print \"buscando punto de rebote\"\n",
    "        #empezamos el algoritmo de biparticion \n",
    "        dt_busqueda = mi_dt/2\n",
    "        y_izq = trayectoria[i,:] # toma el valor anterior, antes de que se de el cambio de signo\n",
    "        t,sol = RK4(e_mov,trayectoria[i,:],[0,dt_busqueda],fric_v)# tomamos las \n",
    "        \n",
    "        y_med = sol[-1,:] # se obtiene con el proceso integración \n",
    "        #print y_med\n",
    "        while abs(y_izq[1]) > 1e-5: # mientras la coordenada de y de  yizquier\n",
    "            if y_izq[1]*y_med[1] <0:\n",
    "                reinicio = y_izq\n",
    "            else:\n",
    "                reinicio=y_med # si el producto entre y_iz e y_med es positivo, ahora toma el valor de y_med como el de la izquierda , empezamos de nuevo la busqueda de la raiz\n",
    "            dt_busqueda = dt_busqueda/2 # disminuye el intervalo de la buaqueda para que converja mas rapido\n",
    "            t,sol = RK4(e_mov,reinicio,[0,dt_busqueda],fric_v) # como modificamos el intervalo del tiempollegarael punto en que sera mucho mas pequeño que el paso de integración\n",
    "            y_izq = reinicio\n",
    "            y_med = sol[-1,:]\n",
    "            \n",
    "        y_izq = array([y_izq[0],y_izq[1],y_izq[2],-y_izq[3]]) #la tercera entrada nos cambia el signo de y para que suba\n",
    "        \"\"\"\n",
    "        trayectoria[i+1,:] = y_izq\n",
    "    else:\n",
    "        trayectoria[i+1,:] = sol_dt[-1,:] # ultimo punto de la simulación, punto siguiente de la trayectoria\n",
    "    \n",
    "    \n",
    "#plot(sol_fv[:,0],sol_fv[:,1],\"o\")\n",
    "plot(trayectoria[:,0],trayectoria[:,1],\"o-\")\n",
    "\n",
    "show()\n"
   ]
  },
  {
   "cell_type": "code",
   "execution_count": null,
   "metadata": {
    "collapsed": true
   },
   "outputs": [],
   "source": [
    "def rebote(r_v_i,mi_dt):  # r_i es la coordenada inicial\n",
    "        dt_busqueda = mi_dt/2\n",
    "        y_izq =r_v_i\n",
    "        t,sol = RK4(e_mov,r_v_i,[0,dt_busqueda],fric_v)# tomamos las \n",
    "        y_med = sol[-1,:] # se obtiene con el proceso integración \n",
    "        while abs(y_izq[1]) > 1e-5: # mientras la coordenada de y de  yizquier\n",
    "            if y_izq[1]*y_med[1] <0:\n",
    "                reinicio = y_izq\n",
    "            else:\n",
    "                reinicio=y_med # si el producto entre y_iz e y_med es positivo, ahora toma el valor de y_med como el de la izquierda , empezamos de nuevo la busqueda de la raiz\n",
    "            dt_busqueda = dt_busqueda/2 # disminuye el intervalo de la buaqueda para que converja mas rapido\n",
    "            t,sol = RK4(e_mov,reinicio,[0,dt_busqueda],fric_v) # como modificamos el intervalo del tiempollegarael punto en que sera mucho mas pequeño que el paso de integración\n",
    "            y_izq = reinicio\n",
    "            y_med = sol[-1,:]  #\n",
    "            \n",
    "        y_izq = array([y_izq[0],y_izq[1],y_izq[2],-y_izq[3]]) #la tercera entrada nos cambia el signo de y para que suba\n",
    "        return y_izq"
   ]
  },
  {
   "cell_type": "code",
   "execution_count": null,
   "metadata": {
    "collapsed": true
   },
   "outputs": [],
   "source": []
  }
 ],
 "metadata": {
  "kernelspec": {
   "display_name": "Python 2",
   "language": "python",
   "name": "python2"
  },
  "language_info": {
   "codemirror_mode": {
    "name": "ipython",
    "version": 2
   },
   "file_extension": ".py",
   "mimetype": "text/x-python",
   "name": "python",
   "nbconvert_exporter": "python",
   "pygments_lexer": "ipython2",
   "version": "2.7.11"
  }
 },
 "nbformat": 4,
 "nbformat_minor": 0
}
