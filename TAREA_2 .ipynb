{
 "cells": [
  {
   "cell_type": "code",
   "execution_count": 2,
   "metadata": {
    "collapsed": true
   },
   "outputs": [],
   "source": [
    "from pylab import*\n",
    "%matplotlib inline "
   ]
  },
  {
   "cell_type": "markdown",
   "metadata": {
    "collapsed": false
   },
   "source": [
    "# $Problema 1$"
   ]
  },
  {
   "cell_type": "markdown",
   "metadata": {},
   "source": [
    "Primeramente nos pide que calculemos las raices que tiene un función dada en cierto intervalo, para ello podemos meter en un ciclo alguna de las funciones que tenemos para calcular las raices como Newton o bipartición, en este caso tomare bipartición. Decidido esto comienza la escritura del codigo que solo hace es partir el intervalo en cachitos tales que le permita tener una convergencia a nuesto metodo de buscar raices."
   ]
  },
  {
   "cell_type": "code",
   "execution_count": 5,
   "metadata": {
    "collapsed": true
   },
   "outputs": [],
   "source": [
    "\n",
    "def raiz_bip(func,x_i,x_d,err=1e-8):\n",
    "    raiz = 0.5*(x_i+x_d)\n",
    "    y_i,y_d = func(x_i),func(x_d)\n",
    "   \n",
    "    while abs(y_d)>=err:\n",
    "        y_m = func(raiz)\n",
    "        if y_m == 0.:\n",
    "            \n",
    "            break\n",
    "        if y_m*y_i < 0:\n",
    "            x_d = raiz\n",
    "        else:\n",
    "            x_i = raiz\n",
    "        raiz = 0.5*(x_i+x_d)\n",
    "        y_i,y_d = func(x_i),func(x_d)\n",
    "        \n",
    "    return raiz"
   ]
  },
  {
   "cell_type": "code",
   "execution_count": 33,
   "metadata": {
    "collapsed": false
   },
   "outputs": [],
   "source": [
    "def busca_r_1(ec,t,dt=0.1):\n",
    "    ti=arange(t[0]-dt,t[1]+dt,dt)\n",
    "    raices=[]\n",
    "    raices2=[]\n",
    "    for i in range(len(ti)-1):\n",
    "        s_l1= ec(ti[i])\n",
    "        s_l2 = ec(ti[i+1])\n",
    "        \n",
    "        if s_l1 == 0:\n",
    "            raices.append(ti[i])\n",
    "        elif s_l2 == 0:\n",
    "            raices.append(ti[i+1])\n",
    "\n",
    "        elif (s_l1 * s_l2) <0:\n",
    "            a=ti[i]\n",
    "            b=ti[i+1]\n",
    "\n",
    "            ra= raiz_bip(ec,a,b)\n",
    "            raices.append(ra)\n",
    "    for j in raices:\n",
    "        if j not in raices2 :\n",
    "            raices2.append(j)\n",
    "    return raices2"
   ]
  },
  {
   "cell_type": "code",
   "execution_count": null,
   "metadata": {
    "collapsed": true
   },
   "outputs": [],
   "source": [
    "def busca_r_1(ec,t,dt=0.1):\n",
    "    ti=arange(t[0]-dt,t[1]+dt,dt)\n",
    "    raices=[]\n",
    "    raices2=[]\n",
    "    for i in ti:\n",
    "        s_l1= ec(i)\n",
    "        s_l2 = ec(i+1)\n",
    "        \n",
    "        if s_l1 == 0:\n",
    "            raices.append(i)\n",
    "        elif s_l2 == 0:\n",
    "            raices.append(i+1)\n",
    "\n",
    "        elif (s_l1 * s_l2) <0:\n",
    "            a=i\n",
    "            b=i+1\n",
    "\n",
    "            ra= raiz_bip(ec,a,b)\n",
    "            raices.append(ra)\n",
    "    for j in raices:\n",
    "        if j not in raices2 :\n",
    "            raices2.append(j)\n",
    "    return raices2"
   ]
  },
  {
   "cell_type": "code",
   "execution_count": 47,
   "metadata": {
    "collapsed": false,
    "scrolled": true
   },
   "outputs": [
    {
     "data": {
      "image/png": "[encoded data removed]",
      "text/plain": [
       "<matplotlib.figure.Figure at 0xab1a810c>"
      ]
     },
     "metadata": {},
     "output_type": "display_data"
    }
   ],
   "source": [
    "t=arange(-0.5,2*pi,.01)\n",
    "y=ec(t)\n",
    "plot(t,y)\n",
    "plot(1.72764201760292080,0,\"o\")\n",
    "plot( 2.7276420176029208, 0,\"o\")\n",
    "plot(2.8534421503543865, 0,\"o\")\n",
    "plot(3.6867361500859257, 0,\"o\")\n",
    "plot(3.8534421503543865, 0,\"o\")\n",
    "plot(4.3797484464943404,0,\"o\")\n",
    "plot(4.6867361500859257,0, \"o\")\n",
    "plot(4.9859028615057461,0, \"o\")\n",
    "plot(5.3797484464943404,0,\"o\")\n",
    "plot( 5.5314438968896855,0,\"o\")\n",
    "plot( 5.9859028607606879,0, \"o\")\n",
    "plot( 6.0315772071480751,0,\"o\")\n",
    "grid(True)\n",
    "title(\"$f(x)=cos(x)+\\frac{6}{5}(sin(x^{2}$\")\n",
    "xlabel=\"X\"\n",
    "ylabel=\"Y(x)\"\n",
    "show()"
   ]
  },
  {
   "cell_type": "code",
   "execution_count": 41,
   "metadata": {
    "collapsed": true
   },
   "outputs": [],
   "source": [
    "def ec (x):\n",
    "    y=cos(x) + (6/5)*(sin(x*x))\n",
    "    return y"
   ]
  },
  {
   "cell_type": "code",
   "execution_count": 37,
   "metadata": {
    "collapsed": false
   },
   "outputs": [],
   "source": [
    "\n",
    "prueba =busca_r_1(ec,[0,2*pi])\n"
   ]
  },
  {
   "cell_type": "code",
   "execution_count": 38,
   "metadata": {
    "collapsed": false
   },
   "outputs": [
    {
     "name": "stdout",
     "output_type": "stream",
     "text": [
      "[1.7276420176029208, 2.7276420176029208, 2.8534421503543865, 3.6867361500859257, 3.8534421503543865, 4.3797484464943404, 4.6867361500859257, 4.9859028615057461, 5.3797484464943404, 5.5314438968896855, 5.9859028607606879, 6.0315772071480751]\n"
     ]
    }
   ],
   "source": [
    "print prueba"
   ]
  },
  {
   "cell_type": "markdown",
   "metadata": {},
   "source": [
    "# $Problema2$"
   ]
  },
  {
   "cell_type": "markdown",
   "metadata": {
    "collapsed": false
   },
   "source": [
    "Para encontrar los valores de las raices para cada x y t dados entonces modificare un poco el metodo anterior para encontrar las raices de la fucnción que depende de x y y."
   ]
  },
  {
   "cell_type": "code",
   "execution_count": 70,
   "metadata": {
    "collapsed": true
   },
   "outputs": [],
   "source": [
    "def busca_r_m(ec,x_in,y_in,dt=0.1):\n",
    "    x = arange(x_in[0]-dt,x_in[1]+dt,dt)\n",
    "    y = arange(y_in[0]-dt,y_in[1]+dt,dt)\n",
    "    raices = [[],[]]#definimos un arreglode 2 listas donde guardaremos las coordenadas del movimoento\n",
    "    for i in range(len(y)-1):\n",
    "        for j in range(len(x-1)):\n",
    "            f1 = ec(x[j],y[i])\n",
    "            f2 = ec(x[j],y[i+1])                                                \n",
    "            if f1 == 0:\n",
    "                raices[0].append(x[j]),raices[1].append(y[i])\n",
    "            elif f2 == 0:\n",
    "                raices[0].append(x[j]),raices[1].append(y[i+2])\n",
    "            elif f1*f2 < 0:\n",
    "                raices[0].append(x[j]),raices[1].append(raiz_bip(func,[x[j],y[i]]))\n",
    "                \n",
    "    return raices"
   ]
  },
  {
   "cell_type": "code",
   "execution_count": null,
   "metadata": {
    "collapsed": false
   },
   "outputs": [],
   "source": []
  },
  {
   "cell_type": "code",
   "execution_count": 65,
   "metadata": {
    "collapsed": true
   },
   "outputs": [],
   "source": [
    "def ec2(x,t):\n",
    "    return 6*x*(x**2 + y**2)*exp(-x**2 - y**2) + 2*(exp(-(y + 2)**2) + exp(-(y - 2)**2))*exp(-(x + 1)**2) - 1\n"
   ]
  },
  {
   "cell_type": "markdown",
   "metadata": {},
   "source": [
    "Obteniendo las raices se tiene:\n"
   ]
  },
  {
   "cell_type": "code",
   "execution_count": 75,
   "metadata": {
    "collapsed": false
   },
   "outputs": [
    {
     "ename": "ValueError",
     "evalue": "The truth value of an array with more than one element is ambiguous. Use a.any() or a.all()",
     "output_type": "error",
     "traceback": [
      "\u001b[1;31m---------------------------------------------------------------------------\u001b[0m",
      "\u001b[1;31mValueError\u001b[0m                                Traceback (most recent call last)",
      "\u001b[1;32m<ipython-input-75-9172783134e1>\u001b[0m in \u001b[0;36m<module>\u001b[1;34m()\u001b[0m\n\u001b[0;32m      1\u001b[0m \u001b[1;33m\u001b[0m\u001b[0m\n\u001b[1;32m----> 2\u001b[1;33m \u001b[0mraices\u001b[0m \u001b[1;33m=\u001b[0m \u001b[0mbusca_r_m\u001b[0m\u001b[1;33m(\u001b[0m\u001b[0mec2\u001b[0m\u001b[1;33m,\u001b[0m\u001b[1;33m[\u001b[0m\u001b[1;33m-\u001b[0m\u001b[1;36m4\u001b[0m\u001b[1;33m,\u001b[0m\u001b[1;36m4\u001b[0m\u001b[1;33m]\u001b[0m\u001b[1;33m,\u001b[0m\u001b[1;33m[\u001b[0m\u001b[1;33m-\u001b[0m\u001b[1;36m4\u001b[0m\u001b[1;33m,\u001b[0m\u001b[1;36m4\u001b[0m\u001b[1;33m]\u001b[0m\u001b[1;33m,\u001b[0m\u001b[1;36m0.02\u001b[0m\u001b[1;33m)\u001b[0m\u001b[1;33m\u001b[0m\u001b[0m\n\u001b[0m",
      "\u001b[1;32m<ipython-input-70-ee1b092bf70e>\u001b[0m in \u001b[0;36mbusca_r_m\u001b[1;34m(ec, x_in, y_in, dt)\u001b[0m\n\u001b[0;32m      7\u001b[0m             \u001b[0mf1\u001b[0m \u001b[1;33m=\u001b[0m \u001b[0mec\u001b[0m\u001b[1;33m(\u001b[0m\u001b[0mx\u001b[0m\u001b[1;33m[\u001b[0m\u001b[0mj\u001b[0m\u001b[1;33m]\u001b[0m\u001b[1;33m,\u001b[0m\u001b[0my\u001b[0m\u001b[1;33m[\u001b[0m\u001b[0mi\u001b[0m\u001b[1;33m]\u001b[0m\u001b[1;33m)\u001b[0m\u001b[1;33m\u001b[0m\u001b[0m\n\u001b[0;32m      8\u001b[0m             \u001b[0mf2\u001b[0m \u001b[1;33m=\u001b[0m \u001b[0mec\u001b[0m\u001b[1;33m(\u001b[0m\u001b[0mx\u001b[0m\u001b[1;33m[\u001b[0m\u001b[0mj\u001b[0m\u001b[1;33m]\u001b[0m\u001b[1;33m,\u001b[0m\u001b[0my\u001b[0m\u001b[1;33m[\u001b[0m\u001b[0mi\u001b[0m\u001b[1;33m+\u001b[0m\u001b[1;36m1\u001b[0m\u001b[1;33m]\u001b[0m\u001b[1;33m)\u001b[0m\u001b[1;33m\u001b[0m\u001b[0m\n\u001b[1;32m----> 9\u001b[1;33m             \u001b[1;32mif\u001b[0m \u001b[0mf1\u001b[0m \u001b[1;33m==\u001b[0m \u001b[1;36m0\u001b[0m\u001b[1;33m:\u001b[0m\u001b[1;33m\u001b[0m\u001b[0m\n\u001b[0m\u001b[0;32m     10\u001b[0m                 \u001b[0mraices\u001b[0m\u001b[1;33m[\u001b[0m\u001b[1;36m0\u001b[0m\u001b[1;33m]\u001b[0m\u001b[1;33m.\u001b[0m\u001b[0mappend\u001b[0m\u001b[1;33m(\u001b[0m\u001b[0mx\u001b[0m\u001b[1;33m[\u001b[0m\u001b[0mj\u001b[0m\u001b[1;33m]\u001b[0m\u001b[1;33m)\u001b[0m\u001b[1;33m,\u001b[0m\u001b[0mraices\u001b[0m\u001b[1;33m[\u001b[0m\u001b[1;36m1\u001b[0m\u001b[1;33m]\u001b[0m\u001b[1;33m.\u001b[0m\u001b[0mappend\u001b[0m\u001b[1;33m(\u001b[0m\u001b[0my\u001b[0m\u001b[1;33m[\u001b[0m\u001b[0mi\u001b[0m\u001b[1;33m]\u001b[0m\u001b[1;33m)\u001b[0m\u001b[1;33m\u001b[0m\u001b[0m\n\u001b[0;32m     11\u001b[0m             \u001b[1;32melif\u001b[0m \u001b[0mf2\u001b[0m \u001b[1;33m==\u001b[0m \u001b[1;36m0\u001b[0m\u001b[1;33m:\u001b[0m\u001b[1;33m\u001b[0m\u001b[0m\n",
      "\u001b[1;31mValueError\u001b[0m: The truth value of an array with more than one element is ambiguous. Use a.any() or a.all()"
     ]
    }
   ],
   "source": [
    "\n",
    "raices = busca_r_m(ec2,[-4,4],[-4,4],0.02)"
   ]
  },
  {
   "cell_type": "code",
   "execution_count": 74,
   "metadata": {
    "collapsed": false
   },
   "outputs": [
    {
     "ename": "NameError",
     "evalue": "name 'raices' is not defined",
     "output_type": "error",
     "traceback": [
      "\u001b[1;31m---------------------------------------------------------------------------\u001b[0m",
      "\u001b[1;31mNameError\u001b[0m                                 Traceback (most recent call last)",
      "\u001b[1;32m<ipython-input-74-788faa3c99ec>\u001b[0m in \u001b[0;36m<module>\u001b[1;34m()\u001b[0m\n\u001b[1;32m----> 1\u001b[1;33m \u001b[0mplot\u001b[0m\u001b[1;33m(\u001b[0m\u001b[0mraices\u001b[0m\u001b[1;33m[\u001b[0m\u001b[1;36m0\u001b[0m\u001b[1;33m]\u001b[0m\u001b[1;33m,\u001b[0m\u001b[0mraices\u001b[0m\u001b[1;33m[\u001b[0m\u001b[1;36m1\u001b[0m\u001b[1;33m]\u001b[0m\u001b[1;33m,\u001b[0m\u001b[1;34m\"o\"\u001b[0m\u001b[1;33m)\u001b[0m\u001b[1;33m\u001b[0m\u001b[0m\n\u001b[0m\u001b[0;32m      2\u001b[0m \u001b[0mxlabel\u001b[0m\u001b[1;33m(\u001b[0m\u001b[1;34m\"$x$\"\u001b[0m\u001b[1;33m)\u001b[0m\u001b[1;33m\u001b[0m\u001b[0m\n\u001b[0;32m      3\u001b[0m \u001b[0mylabel\u001b[0m\u001b[1;33m(\u001b[0m\u001b[1;34m\"$y$\"\u001b[0m\u001b[1;33m)\u001b[0m\u001b[1;33m\u001b[0m\u001b[0m\n\u001b[0;32m      4\u001b[0m \u001b[0mtitle\u001b[0m\u001b[1;33m(\u001b[0m\u001b[1;34m\"Raices de $f(x,y)$\"\u001b[0m\u001b[1;33m)\u001b[0m\u001b[1;33m\u001b[0m\u001b[0m\n\u001b[0;32m      5\u001b[0m \u001b[0mshow\u001b[0m\u001b[1;33m(\u001b[0m\u001b[1;33m)\u001b[0m\u001b[1;33m\u001b[0m\u001b[0m\n",
      "\u001b[1;31mNameError\u001b[0m: name 'raices' is not defined"
     ]
    }
   ],
   "source": [
    "plot(raices[0],raices[1],\"o\")\n",
    "xlabel(\"$x$\")\n",
    "ylabel(\"$y$\")\n",
    "title(\"Raices de $f(x,y)$\")\n",
    "show()"
   ]
  },
  {
   "cell_type": "markdown",
   "metadata": {},
   "source": [
    "El chiste de esya modificación en el codigo anterior es para obter las raices y poder graficar las en un plao xy, solo hay un error de indices de las listas que cree por lo que no pudo corres del todo."
   ]
  },
  {
   "cell_type": "markdown",
   "metadata": {},
   "source": [
    "# $Problema 3$"
   ]
  },
  {
   "cell_type": "markdown",
   "metadata": {
    "collapsed": true
   },
   "source": [
    "Lo mando como otro notebook"
   ]
  },
  {
   "cell_type": "code",
   "execution_count": null,
   "metadata": {
    "collapsed": true
   },
   "outputs": [],
   "source": []
  }
 ],
 "metadata": {
  "kernelspec": {
   "display_name": "Python 2",
   "language": "python",
   "name": "python2"
  },
  "language_info": {
   "codemirror_mode": {
    "name": "ipython",
    "version": 2
   },
   "file_extension": ".py",
   "mimetype": "text/x-python",
   "name": "python",
   "nbconvert_exporter": "python",
   "pygments_lexer": "ipython2",
   "version": "2.7.11"
  }
 },
 "nbformat": 4,
 "nbformat_minor": 0
}
