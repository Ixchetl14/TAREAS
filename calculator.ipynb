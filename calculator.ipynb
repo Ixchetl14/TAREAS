{
 "cells": [
  {
   "cell_type": "code",
   "execution_count": 1,
   "metadata": {
    "collapsed": true
   },
   "outputs": [],
   "source": [
    "\n",
    "from pylab import *\n",
    "%matplotlib inline\n"
   ]
  },
  {
   "cell_type": "code",
   "execution_count": 2,
   "metadata": {
    "collapsed": true
   },
   "outputs": [],
   "source": [
    "def mi_euler (funcion, p_ini, t_final,h=0.01):\n",
    "    tiempos = arange (p_ini[0], t_final+h,h)\n",
    "    y = [0]*(len(tiempos)) # matriz de 0s\n",
    "    y[0]=p_ini[1]\n",
    "    for i in range(len(tiempos) - 1): # len(tiempo) - 1 y y[i+ 1] son lo que nso indica el punto seguuinente sobr eel cual queremos evaluar.\n",
    "        y[i + 1] = y[i] + funcion(y[i],tiempos[i])*h\n",
    "    solucion = [tiempos,y]\n",
    "\n",
    "    return solucion "
   ]
  },
  {
   "cell_type": "code",
   "execution_count": 3,
   "metadata": {
    "collapsed": false
   },
   "outputs": [],
   "source": [
    "def euler_var(ec,p_ini,x,h=0.01):\n",
    "   \n",
    "    tiempos = arange(x[0],x[1]+h,h)   # h, es el \"paso \" entre el intervalo dado; con esto damos el nuemro de datos \"tiempos\" que queremos nos tome nuestra ecuacíon y estaran relacionados con la solucio,( se tendría una \"t\" con su \"sol\")\n",
    "    sol=zeros((len(tiempos), len(p_ini)) )# array con ceros dada por la longitud de las condiciones iniciales( la primera condicion indica los renglones y la segunda la columna)\n",
    "    sol[0,:]=p_ini    #el primer renglon lo llenará con \"p_ini\" por lo que el ciclo debera de ser de len(tiempos) -1 \n",
    "    for i in range(len(tiempos)-1):  # ira corrinedo para todos los tiempos y la solucion la estaremos ingresando en una matris con listas\n",
    "        f=ec(sol[i,:], tiempos[i]) # indica que debe de evaluar la funcion en cada tiempo y lo \n",
    "        sol[i+1,:] = sol[i,:]+h*f # integrando lo que faltaba de la ecuación que nos da en un principio# debe de ser el i + 1 por que el primer renglon ya esta ocupado, con esto se irá llenand\n",
    "    #o el arreglo de ceros\n",
    "    \n",
    "    #jn1 = yn + (h*f) + (0.5*h*h*(jac[0]+ dot (jac[1],f)))       # donde jac[0]    es la parcial de f respecto de f\n",
    "    return tiempos,sol"
   ]
  },
  {
   "cell_type": "code",
   "execution_count": 4,
   "metadata": {
    "collapsed": true
   },
   "outputs": [],
   "source": [
    "def integra2(ec,d_ec, p_ini,x,h=0.1):\n",
    "   \n",
    "    tiempos = arange(x[0],x[1]+h,h)   # h, es el \"paso \" entre el intervalo dado; con esto damos el nuemro de datos \"tiempos\" que queremos nos tome nuestra ecuacíon y estaran relacionados con la solucio,( se tendría una \"t\" con su \"sol\")\n",
    "    sol=zeros((len(tiempos), len(p_ini)) )# array con ceros dada por la longitud de las condiciones iniciales( la primera condicion indica los renglones y la segunda la columna)\n",
    "    sol[0,:]=p_ini    #el primer renglon lo llenará con \"p_ini\" por lo que el ciclo debera de ser de len(tiempos) -1 \n",
    "    for i in xrange(len(tiempos)-1):  # ira corrinedo para todos los tiempos y la solucion la estaremos ingresando en una matris con listas\n",
    "                                     #xrange solo funciona en los ciclos\n",
    "        \n",
    "        f=ec(sol[i,:], tiempos[i]) # indica que debe de evaluar la funcion en cada tiempo y lo \n",
    "        df,jac=d_ec(sol[i,:],tiempos[i])\n",
    "        sol[i+1,:] = sol[i,:]+h*f + (0.5*h*h*(df+dot(jac,f)))  # integrando lo que faltaba de la ecuación que nos da en un principio# debe de ser el i + 1 por que el primer renglon ya esta ocupado, con esto se irá llenand\n",
    "    #o el arreglo de ceros\n",
    "    \n",
    "    #jn1 = yn + (h*f) + (0.5*h*h*(jac[0]+ dot (jac[1],f)))       # donde jac[0]    es la parcial de f respecto de f\n",
    "    return tiempos,sol\n"
   ]
  },
  {
   "cell_type": "code",
   "execution_count": 5,
   "metadata": {
    "collapsed": true
   },
   "outputs": [],
   "source": [
    "def R_Kutta(ec,p_ini,x,h=0.1):\n",
    "   \n",
    "    tiempos = arange(x[0],x[1]+h,h)   \n",
    "    sol=zeros((len(tiempos), len(p_ini)) )\n",
    "    sol[0,:]=p_ini\n",
    "    for i in xrange(len(tiempos)-1):\n",
    "        k=h*ec(sol[i,:],tiempos[i])\n",
    "        f=ec(sol[i,:] +0.5*k, tiempos[i]+0.5*h) ## por la forma en que definimos ponemos primero a la variable dependiente y despues la independiente\n",
    "        sol[i+1,:] = sol[i,:]+h*f  \n",
    "    \n",
    "    return tiempos,sol"
   ]
  },
  {
   "cell_type": "code",
   "execution_count": 6,
   "metadata": {
    "collapsed": true
   },
   "outputs": [],
   "source": [
    "def R_Kutta_4(ec,p_ini,x,h=0.1):\n",
    "   \n",
    "    tiempos = arange(x[0],x[1]+h,h)   \n",
    "    sol=zeros((len(tiempos), len(p_ini)) )\n",
    "    sol[0,:]=p_ini\n",
    "    for i in xrange(len(tiempos)-1):\n",
    "        k1=ec(sol[i,:],tiempos[i])\n",
    "        k2=ec(sol[i,:]+ 0.5*h*k1,tiempos[i]+0.5*h)\n",
    "        k3=ec(sol[i,:]+ 0.5*h*k2,tiempos[i]+0.5*h)\n",
    "        k4=ec(sol[i,:]+ h*k3,tiempos[i]+ h)\n",
    "        sol[i+1,:] = sol[i,:]+(h/6.)*(k1 + (2*k2) + (2*k3) +k4)  \n",
    "    \n",
    "    return tiempos,sol"
   ]
  },
  {
   "cell_type": "code",
   "execution_count": 7,
   "metadata": {
    "collapsed": true
   },
   "outputs": [],
   "source": [
    "def raiz_bin(func,x_i,x_d,err= 1e-8):#err es el \"tope\" de nuestra busqueda de la raíz con un margen de error de 1e-5,esto tiene repercucuines com el intervalo que te de como error cresca o disminuye\n",
    "    raiz= 0.5*(x_i+x_d)\n",
    "    y_i,y_d = func(x_i), func(x_d)\n",
    "    n=0\n",
    "    while abs(y_d )  >=err: #error en el eje x\n",
    "        y_m = func(raiz) #debemos saber cuanto vale la función en cada uno de los lados\" por la derecha y la izquierda\"\n",
    "        if y_m==0:\n",
    "            print \"le atine!!\"\n",
    "            break\n",
    "        \n",
    "        elif y_m*y_i < 0 :\n",
    "            x_d = raiz\n",
    "        else:\n",
    "            x_i=raiz\n",
    "            \n",
    "        raiz= 0.5*(x_i+x_d)\n",
    "        y_i,y_d = func(x_i), func(x_d)\n",
    "        n+=1\n",
    "        print \"paso: \",n, \" raiz=\",raiz \n",
    "    return raiz\n",
    "\n",
    "    \n"
   ]
  },
  {
   "cell_type": "code",
   "execution_count": 8,
   "metadata": {
    "collapsed": true
   },
   "outputs": [],
   "source": [
    "def newton_1(ec,d_ec, x_i, error=1e-9):\n",
    "    n=0\n",
    "    while abs(ec(x_i)) >= error:\n",
    "        print n, \"\\t\", x_i\n",
    "        raiz= x_i - ec(x_i)/ d_ec(x_i)\n",
    "        x_i=raiz\n",
    "        \n",
    "        if x_i==0:\n",
    "            print \"le atine!!\"\n",
    "            break\n",
    "        n +=1\n",
    "    return raiz"
   ]
  },
  {
   "cell_type": "markdown",
   "metadata": {},
   "source": [
    "# Agregando argumentos a los integradores ."
   ]
  },
  {
   "cell_type": "markdown",
   "metadata": {},
   "source": [
    "Debido a que algunos parametros de las funciones que querramos resolver requieren modificar algunos de sus argumentos, es necesario realizar unos cambio en los metodos de integración de tal manera que estos argumentos solo se neseciten modificar desde la definición de la función y no desde el metodo de integración"
   ]
  },
  {
   "cell_type": "code",
   "execution_count": 9,
   "metadata": {
    "collapsed": true
   },
   "outputs": [],
   "source": [
    "def euler_var_m(ec,p_ini,x,h=0.01,args=[]):\n",
    "   \n",
    "    tiempos = arange(x[0],x[1]+h,h)   # h, es el \"paso \" entre el intervalo dado; con esto damos el nuemro de datos \"tiempos\" que queremos nos tome nuestra ecuacíon y estaran relacionados con la solucio,( se tendría una \"t\" con su \"sol\")\n",
    "    sol=zeros((len(tiempos), len(p_ini)) )# array con ceros dada por la longitud de las condiciones iniciales( la primera condicion indica los renglones y la segunda la columna)\n",
    "    sol[0,:]=p_ini    #el primer renglon lo llenará con \"p_ini\" por lo que el ciclo debera de ser de len(tiempos) -1 \n",
    "    for i in range(len(tiempos)-1):  # ira corriendo para todos los tiempos y la solución la estaremos ingresando en una matris con listas\n",
    "        if args==0:\n",
    "            f=ec(sol[i,:], tiempos[i]) # indica que debe de evaluar la funcion en cada tiempo y lo \n",
    "            sol[i+1,:] = sol[i,:]+h*f # integrando lo que faltaba de la ecuación que nos da en un principio# debe de ser el i + 1 por que el primer renglon ya esta ocupado, con esto se irá llenando#o el arreglo de ceros\n",
    "        else:\n",
    "            f=ec(sol[i,:], tiempos[i],args) # indica que debe de evaluar la funcion en cada tiempo y lo \n",
    "            sol[i+1,:] = sol[i,:]+h*f # integrando lo que faltaba de la ecuación que nos da en un principio# debe de ser el i + 1 por que el primer renglon ya esta ocupado, con esto se irá llenando#o el arreglo de ceros\n",
    "   \n",
    "    return tiempos,sol"
   ]
  },
  {
   "cell_type": "code",
   "execution_count": 10,
   "metadata": {
    "collapsed": true
   },
   "outputs": [],
   "source": [
    "def integra2_m(ec,d_ec, p_ini,x,h=0.1,args=[]):\n",
    "   \n",
    "    tiempos = arange(x[0],x[1]+h,h)   # h, es el \"paso \" entre el intervalo dado; con esto damos el nuemro de datos \"tiempos\" que queremos nos tome nuestra ecuacíon y estaran relacionados con la solucio,( se tendría una \"t\" con su \"sol\")\n",
    "    sol=zeros((len(tiempos), len(p_ini)) )# array con ceros dada por la longitud de las condiciones iniciales( la primera condicion indica los renglones y la segunda la columna)\n",
    "    sol[0,:]=p_ini    #el primer renglon lo llenará con \"p_ini\" por lo que el ciclo debera de ser de len(tiempos) -1 \n",
    "    for i in xrange(len(tiempos)-1):  # ira corrinedo para todos los tiempos y la solucion la estaremos ingresando en una matris con listas\n",
    "                                     #xrange solo funciona en los ciclos\n",
    "        if args==0:\n",
    "            f=ec(sol[i,:], tiempos[i]) # indica que debe de evaluar la funcion en cada tiempo y lo \n",
    "            df,jac=d_ec(sol[i,:],tiempos[i])\n",
    "        else:\n",
    "            f=ec(sol[i,:], tiempos[i],args) # indica que debe de evaluar la funcion en cada tiempo y lo \n",
    "            df,jac=d_ec(sol[i,:],tiempos[i])\n",
    "        sol[i+1,:] = sol[i,:]+h*f + (0.5*h*h*(df+dot(jac,f)))  # integrando lo que faltaba de la ecuación que nos da en un principio# debe de ser el i + 1 por que el primer renglon ya esta ocupado, con esto se irá llenand\n",
    "    #o el arreglo de ceros\n",
    "    \n",
    "    #jn1 = yn + (h*f) + (0.5*h*h*(jac[0]+ dot (jac[1],f)))       # donde jac[0]    es la parcial de f respecto de f\n",
    "    return tiempos,sol"
   ]
  },
  {
   "cell_type": "code",
   "execution_count": 11,
   "metadata": {
    "collapsed": true
   },
   "outputs": [],
   "source": [
    "def R_Kutta_m(ec,p_ini,x,h=0.1,args=[]):\n",
    "   \n",
    "    tiempos = arange(x[0],x[1]+h,h)   \n",
    "    sol=zeros((len(tiempos), len(p_ini)) )\n",
    "    sol[0,:]=p_ini\n",
    "    for i in xrange(len(tiempos)-1):\n",
    "        if args==0:\n",
    "            k=h*ec(sol[i,:],tiempos[i])\n",
    "            f=ec(sol[i,:] +0.5*k, tiempos[i]+0.5*h) ## por la forma en que definimos ponemos primero a la variable dependiente y despues la independiente\n",
    "        else:\n",
    "            k=h*ec(sol[i,:],tiempos[i],args)\n",
    "            f=ec(sol[i,:] +0.5*k, tiempos[i]+0.5*h, args) ## por la forma en que definimos ponemos primero a la variable dependiente y despues la independiente\n",
    "        \n",
    "            \n",
    "        sol[i+1,:] = sol[i,:]+h*f  \n",
    "    \n",
    "    return tiempos,sol"
   ]
  },
  {
   "cell_type": "code",
   "execution_count": 12,
   "metadata": {
    "collapsed": true
   },
   "outputs": [],
   "source": [
    "def RK4(ec, p_ini, x, args=0, h=0.01):\n",
    "    if (x[1] - x[0]) <= 5.*h:\n",
    "        h= (x[1] - x[0])/10\n",
    "    tiempos=arange(x[0],x[1]+h,h)\n",
    "    sol = zeros((len(tiempos),len(p_ini)))\n",
    "    sol[0,:]=p_ini\n",
    "    if args==0:\n",
    "        for i in xrange(len(tiempos)-1):\n",
    "            k_1=ec(sol[i,:],tiempos[i])\n",
    "            k_2=ec(sol[i,:]+0.5*h*k_1,tiempos[i]+0.5*h)\n",
    "            k_3=ec(sol[i,:]+0.5*h*k_2,tiempos[i]+0.5*h)\n",
    "            k_4=ec(sol[i,:]+h*k_3,tiempos[i]+h)\n",
    "            sol[i+1,:]= sol[i,:]+ (h/6.)*(k_1+2*k_2+2*k_3+k_4)\n",
    "    else:\n",
    "        for i in xrange(len(tiempos)-1):\n",
    "            k_1=ec(sol[i,:],tiempos[i],args)\n",
    "            k_2=ec(sol[i,:]+0.5*h*k_1,tiempos[i]+0.5*h,args)\n",
    "            k_3=ec(sol[i,:]+0.5*h*k_2,tiempos[i]+0.5*h,args)\n",
    "            k_4=ec(sol[i,:]+h*k_3,tiempos[i]+h,args)\n",
    "            sol[i+1,:]= sol[i,:]+ (h/6.)*(k_1+2*k_2+2*k_3+k_4)\n",
    "    return tiempos,sol\n"
   ]
  },
  {
   "cell_type": "code",
   "execution_count": null,
   "metadata": {
    "collapsed": true
   },
   "outputs": [],
   "source": []
  }
 ],
 "metadata": {
  "kernelspec": {
   "display_name": "Python 2",
   "language": "python",
   "name": "python2"
  },
  "language_info": {
   "codemirror_mode": {
    "name": "ipython",
    "version": 2
   },
   "file_extension": ".py",
   "mimetype": "text/x-python",
   "name": "python",
   "nbconvert_exporter": "python",
   "pygments_lexer": "ipython2",
   "version": "2.7.11"
  }
 },
 "nbformat": 4,
 "nbformat_minor": 0
}
